{
 "cells": [
  {
   "cell_type": "code",
   "execution_count": null,
   "id": "6f5e5bb3",
   "metadata": {},
   "outputs": [],
   "source": [
    "import sys\n",
    "sys.path.append('c:\\\\Users\\\\rokas\\\\Documents\\\\Github\\\\BCI\\\\mi-bci\\\\code')\n",
    "from helper_functions import setup_logger\n",
    "from helper_functions.data_procesing.mi_procesing import process_mi_raw\n",
    "import matplotlib.pyplot as plt\n",
    "from helper_functions import setup_logger, load_procesed_data\n",
    "from datasets import Lee2019\n",
    "import os\n",
    "import glob\n",
    "import mne\n",
    "import matplotlib.pyplot as plt\n",
    "import numpy as np\n",
    "import pandas as pd\n",
    "import seaborn as sns\n",
    "from matplotlib.colors import TwoSlopeNorm\n",
    "from mne.stats import permutation_cluster_1samp_test as pcluster_test\n",
    "\n",
    "from datasets import Lee2019\n",
    "\n",
    "log = setup_logger(\"Lee_preprocess\")\n",
    "\n",
    "dataset = Lee2019()\n",
    "dataset_no = 20\n",
    "subject = 10\n",
    "run = 1\n",
    "paradigm = \"MI\"\n",
    "tmin = -1.2\n",
    "tmax = 5.2\n",
    "event_id = dict(left_hand=2, right_hand=1)"
   ]
  }
 ],
 "metadata": {
  "kernelspec": {
   "display_name": "default",
   "language": "python",
   "name": "python3"
  },
  "language_info": {
   "codemirror_mode": {
    "name": "ipython",
    "version": 3
   },
   "file_extension": ".py",
   "mimetype": "text/x-python",
   "name": "python",
   "nbconvert_exporter": "python",
   "pygments_lexer": "ipython3",
   "version": "3.10.15"
  }
 },
 "nbformat": 4,
 "nbformat_minor": 5
}
