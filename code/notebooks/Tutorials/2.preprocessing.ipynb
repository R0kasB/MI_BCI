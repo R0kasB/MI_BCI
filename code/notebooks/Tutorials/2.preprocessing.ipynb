{
 "cells": [
  {
   "cell_type": "code",
   "execution_count": 1,
   "metadata": {},
   "outputs": [],
   "source": [
    "import sys\n",
    "sys.path.append('c:\\\\Users\\\\rokas\\\\Documents\\\\Github\\\\BCI\\\\mi-bci\\\\code')"
   ]
  },
  {
   "cell_type": "markdown",
   "metadata": {},
   "source": [
    "Loading mne-raw from selected dataset. Data loading explained in data_acquisition.ipynb"
   ]
  },
  {
   "cell_type": "code",
   "execution_count": null,
   "metadata": {},
   "outputs": [
    {
     "name": "stdout",
     "output_type": "stream",
     "text": [
      "Opening raw data file c:\\Users\\rokas\\Documents\\GitHub\\BCI\\mi-bci\\data\\raw_fif\\20\\MI\\s04.01_raw.fif...\n",
      "    Range : 0 ... 1384719 =      0.000 ...  1384.719 secs\n",
      "Ready.\n",
      "Reading 0 ... 1384719  =      0.000 ...  1384.719 secs...\n"
     ]
    }
   ],
   "source": [
    "from datasets import Lee2019\n",
    "dataset = Lee2019()\n",
    "raw = dataset.load_one_raw_fif(subject=4,run=1,paradigm = 'MI')\n",
    "event_id = dict(left_hand=2, right_hand=1)"
   ]
  },
  {
   "cell_type": "markdown",
   "metadata": {},
   "source": [
    "## Data preprocessing\n",
    "Mne-raw data can be preprocessed using pyprep and epochs cleaned using Autoreject. Using both in combination is also possible."
   ]
  },
  {
   "cell_type": "markdown",
   "metadata": {},
   "source": [
    "#### Pyprep\n",
    "To process mne-raw file using pyprep, preprocess_raw_pyprep() can be used"
   ]
  },
  {
   "cell_type": "code",
   "execution_count": 7,
   "metadata": {},
   "outputs": [
    {
     "name": "stdout",
     "output_type": "stream",
     "text": [
      "NOTE: pick_channels() is a legacy function. New code should use inst.pick(...).\n",
      "NOTE: pick_channels() is a legacy function. New code should use inst.pick(...).\n",
      "NOTE: pick_types() is a legacy function. New code should use inst.pick(...).\n",
      "Setting up high-pass filter at 1 Hz\n",
      "\n",
      "FIR filter parameters\n",
      "---------------------\n",
      "Designing a one-pass, zero-phase, non-causal highpass filter:\n",
      "- Windowed time-domain design (firwin) method\n",
      "- Hamming window with 0.0194 passband ripple and 53 dB stopband attenuation\n",
      "- Lower passband edge: 1.00\n",
      "- Lower transition bandwidth: 1.00 Hz (-6 dB cutoff frequency: 0.50 Hz)\n",
      "- Filter length: 3301 samples (3.301 s)\n",
      "\n"
     ]
    },
    {
     "name": "stderr",
     "output_type": "stream",
     "text": [
      "[Parallel(n_jobs=1)]: Done  17 tasks      | elapsed:    0.9s\n"
     ]
    },
    {
     "name": "stdout",
     "output_type": "stream",
     "text": [
      "Setting up high-pass filter at 1 Hz\n",
      "\n",
      "FIR filter parameters\n",
      "---------------------\n",
      "Designing a one-pass, zero-phase, non-causal highpass filter:\n",
      "- Windowed time-domain design (firwin) method\n",
      "- Hamming window with 0.0194 passband ripple and 53 dB stopband attenuation\n",
      "- Lower passband edge: 1.00\n",
      "- Lower transition bandwidth: 1.00 Hz (-6 dB cutoff frequency: 0.50 Hz)\n",
      "- Filter length: 3301 samples (3.301 s)\n",
      "\n"
     ]
    },
    {
     "name": "stderr",
     "output_type": "stream",
     "text": [
      "[Parallel(n_jobs=1)]: Done  17 tasks      | elapsed:    0.8s\n"
     ]
    },
    {
     "ename": "KeyboardInterrupt",
     "evalue": "",
     "output_type": "error",
     "traceback": [
      "\u001b[1;31m---------------------------------------------------------------------------\u001b[0m",
      "\u001b[1;31mKeyboardInterrupt\u001b[0m                         Traceback (most recent call last)",
      "Cell \u001b[1;32mIn[7], line 2\u001b[0m\n\u001b[0;32m      1\u001b[0m \u001b[38;5;28;01mfrom\u001b[39;00m \u001b[38;5;21;01mhelper_functions\u001b[39;00m \u001b[38;5;28;01mimport\u001b[39;00m preprocess_raw_pyprep\n\u001b[1;32m----> 2\u001b[0m raw_cleaned \u001b[38;5;241m=\u001b[39m \u001b[43mpreprocess_raw_pyprep\u001b[49m\u001b[43m(\u001b[49m\u001b[43mraw\u001b[49m\u001b[43m)\u001b[49m\n",
      "File \u001b[1;32mc:\\Users\\rokas\\Documents\\Github\\BCI\\mi-bci\\code\\helper_functions\\data_procesing\\data_preproces.py:36\u001b[0m, in \u001b[0;36mpreprocess_raw_pyprep\u001b[1;34m(raw, plot, include_raw)\u001b[0m\n\u001b[0;32m     33\u001b[0m prep \u001b[38;5;241m=\u001b[39m PrepPipeline(raw_copy, prep_params, montage)\n\u001b[0;32m     35\u001b[0m \u001b[38;5;66;03m# Step 8: Run the PREP Pipeline\u001b[39;00m\n\u001b[1;32m---> 36\u001b[0m \u001b[43mprep\u001b[49m\u001b[38;5;241;43m.\u001b[39;49m\u001b[43mfit\u001b[49m\u001b[43m(\u001b[49m\u001b[43m)\u001b[49m  \u001b[38;5;66;03m# This will perform re-referencing, line noise removal, and bad channel interpolation\u001b[39;00m\n\u001b[0;32m     38\u001b[0m \u001b[38;5;66;03m# Step 9: Check the Results of the PREP Pipeline\u001b[39;00m\n\u001b[0;32m     39\u001b[0m log\u001b[38;5;241m.\u001b[39minfo(\u001b[38;5;124mf\u001b[39m\u001b[38;5;124m\"\u001b[39m\u001b[38;5;124mInterpolated channels: \u001b[39m\u001b[38;5;132;01m{\u001b[39;00mprep\u001b[38;5;241m.\u001b[39minterpolated_channels\u001b[38;5;132;01m}\u001b[39;00m\u001b[38;5;124m\"\u001b[39m)\n",
      "File \u001b[1;32mc:\\Users\\rokas\\Documents\\GitHub\\BCI\\mi-bci\\.pixi\\envs\\default\\lib\\site-packages\\pyprep\\prep_pipeline.py:198\u001b[0m, in \u001b[0;36mPrepPipeline.fit\u001b[1;34m(self)\u001b[0m\n\u001b[0;32m    196\u001b[0m linenoise \u001b[38;5;241m=\u001b[39m \u001b[38;5;28mself\u001b[39m\u001b[38;5;241m.\u001b[39mprep_params[\u001b[38;5;124m\"\u001b[39m\u001b[38;5;124mline_freqs\u001b[39m\u001b[38;5;124m\"\u001b[39m]\n\u001b[0;32m    197\u001b[0m \u001b[38;5;28;01mif\u001b[39;00m \u001b[38;5;28mself\u001b[39m\u001b[38;5;241m.\u001b[39mfilter_kwargs \u001b[38;5;129;01mis\u001b[39;00m \u001b[38;5;28;01mNone\u001b[39;00m:\n\u001b[1;32m--> 198\u001b[0m     \u001b[38;5;28mself\u001b[39m\u001b[38;5;241m.\u001b[39mEEG_clean \u001b[38;5;241m=\u001b[39m \u001b[43mmne\u001b[49m\u001b[38;5;241;43m.\u001b[39;49m\u001b[43mfilter\u001b[49m\u001b[38;5;241;43m.\u001b[39;49m\u001b[43mnotch_filter\u001b[49m\u001b[43m(\u001b[49m\n\u001b[0;32m    199\u001b[0m \u001b[43m        \u001b[49m\u001b[38;5;28;43mself\u001b[39;49m\u001b[38;5;241;43m.\u001b[39;49m\u001b[43mEEG_new\u001b[49m\u001b[43m,\u001b[49m\n\u001b[0;32m    200\u001b[0m \u001b[43m        \u001b[49m\u001b[43mFs\u001b[49m\u001b[38;5;241;43m=\u001b[39;49m\u001b[38;5;28;43mself\u001b[39;49m\u001b[38;5;241;43m.\u001b[39;49m\u001b[43msfreq\u001b[49m\u001b[43m,\u001b[49m\n\u001b[0;32m    201\u001b[0m \u001b[43m        \u001b[49m\u001b[43mfreqs\u001b[49m\u001b[38;5;241;43m=\u001b[39;49m\u001b[43mlinenoise\u001b[49m\u001b[43m,\u001b[49m\n\u001b[0;32m    202\u001b[0m \u001b[43m        \u001b[49m\u001b[43mmethod\u001b[49m\u001b[38;5;241;43m=\u001b[39;49m\u001b[38;5;124;43m\"\u001b[39;49m\u001b[38;5;124;43mspectrum_fit\u001b[39;49m\u001b[38;5;124;43m\"\u001b[39;49m\u001b[43m,\u001b[49m\n\u001b[0;32m    203\u001b[0m \u001b[43m        \u001b[49m\u001b[43mmt_bandwidth\u001b[49m\u001b[38;5;241;43m=\u001b[39;49m\u001b[38;5;241;43m2\u001b[39;49m\u001b[43m,\u001b[49m\n\u001b[0;32m    204\u001b[0m \u001b[43m        \u001b[49m\u001b[43mp_value\u001b[49m\u001b[38;5;241;43m=\u001b[39;49m\u001b[38;5;241;43m0.01\u001b[39;49m\u001b[43m,\u001b[49m\n\u001b[0;32m    205\u001b[0m \u001b[43m        \u001b[49m\u001b[43mfilter_length\u001b[49m\u001b[38;5;241;43m=\u001b[39;49m\u001b[38;5;124;43m\"\u001b[39;49m\u001b[38;5;124;43m10s\u001b[39;49m\u001b[38;5;124;43m\"\u001b[39;49m\u001b[43m,\u001b[49m\n\u001b[0;32m    206\u001b[0m \u001b[43m    \u001b[49m\u001b[43m)\u001b[49m\n\u001b[0;32m    207\u001b[0m \u001b[38;5;28;01melse\u001b[39;00m:\n\u001b[0;32m    208\u001b[0m     \u001b[38;5;28mself\u001b[39m\u001b[38;5;241m.\u001b[39mEEG_clean \u001b[38;5;241m=\u001b[39m mne\u001b[38;5;241m.\u001b[39mfilter\u001b[38;5;241m.\u001b[39mnotch_filter(\n\u001b[0;32m    209\u001b[0m         \u001b[38;5;28mself\u001b[39m\u001b[38;5;241m.\u001b[39mEEG_new,\n\u001b[0;32m    210\u001b[0m         Fs\u001b[38;5;241m=\u001b[39m\u001b[38;5;28mself\u001b[39m\u001b[38;5;241m.\u001b[39msfreq,\n\u001b[0;32m    211\u001b[0m         freqs\u001b[38;5;241m=\u001b[39mlinenoise,\n\u001b[0;32m    212\u001b[0m         \u001b[38;5;241m*\u001b[39m\u001b[38;5;241m*\u001b[39m\u001b[38;5;28mself\u001b[39m\u001b[38;5;241m.\u001b[39mfilter_kwargs,\n\u001b[0;32m    213\u001b[0m     )\n",
      "File \u001b[1;32m<decorator-gen-44>:12\u001b[0m, in \u001b[0;36mnotch_filter\u001b[1;34m(x, Fs, freqs, filter_length, notch_widths, trans_bandwidth, method, iir_params, mt_bandwidth, p_value, picks, n_jobs, copy, phase, fir_window, fir_design, pad, verbose)\u001b[0m\n",
      "File \u001b[1;32mc:\\Users\\rokas\\Documents\\GitHub\\BCI\\mi-bci\\.pixi\\envs\\default\\lib\\site-packages\\mne\\filter.py:1569\u001b[0m, in \u001b[0;36mnotch_filter\u001b[1;34m(x, Fs, freqs, filter_length, notch_widths, trans_bandwidth, method, iir_params, mt_bandwidth, p_value, picks, n_jobs, copy, phase, fir_window, fir_design, pad, verbose)\u001b[0m\n\u001b[0;32m   1550\u001b[0m     xf \u001b[38;5;241m=\u001b[39m filter_data(\n\u001b[0;32m   1551\u001b[0m         x,\n\u001b[0;32m   1552\u001b[0m         Fs,\n\u001b[1;32m   (...)\u001b[0m\n\u001b[0;32m   1566\u001b[0m         pad\u001b[38;5;241m=\u001b[39mpad,\n\u001b[0;32m   1567\u001b[0m     )\n\u001b[0;32m   1568\u001b[0m \u001b[38;5;28;01melif\u001b[39;00m method \u001b[38;5;241m==\u001b[39m \u001b[38;5;124m\"\u001b[39m\u001b[38;5;124mspectrum_fit\u001b[39m\u001b[38;5;124m\"\u001b[39m:\n\u001b[1;32m-> 1569\u001b[0m     xf \u001b[38;5;241m=\u001b[39m \u001b[43m_mt_spectrum_proc\u001b[49m\u001b[43m(\u001b[49m\n\u001b[0;32m   1570\u001b[0m \u001b[43m        \u001b[49m\u001b[43mx\u001b[49m\u001b[43m,\u001b[49m\n\u001b[0;32m   1571\u001b[0m \u001b[43m        \u001b[49m\u001b[43mFs\u001b[49m\u001b[43m,\u001b[49m\n\u001b[0;32m   1572\u001b[0m \u001b[43m        \u001b[49m\u001b[43mfreqs\u001b[49m\u001b[43m,\u001b[49m\n\u001b[0;32m   1573\u001b[0m \u001b[43m        \u001b[49m\u001b[43mnotch_widths\u001b[49m\u001b[43m,\u001b[49m\n\u001b[0;32m   1574\u001b[0m \u001b[43m        \u001b[49m\u001b[43mmt_bandwidth\u001b[49m\u001b[43m,\u001b[49m\n\u001b[0;32m   1575\u001b[0m \u001b[43m        \u001b[49m\u001b[43mp_value\u001b[49m\u001b[43m,\u001b[49m\n\u001b[0;32m   1576\u001b[0m \u001b[43m        \u001b[49m\u001b[43mpicks\u001b[49m\u001b[43m,\u001b[49m\n\u001b[0;32m   1577\u001b[0m \u001b[43m        \u001b[49m\u001b[43mn_jobs\u001b[49m\u001b[43m,\u001b[49m\n\u001b[0;32m   1578\u001b[0m \u001b[43m        \u001b[49m\u001b[43mcopy\u001b[49m\u001b[43m,\u001b[49m\n\u001b[0;32m   1579\u001b[0m \u001b[43m        \u001b[49m\u001b[43mfilter_length\u001b[49m\u001b[43m,\u001b[49m\n\u001b[0;32m   1580\u001b[0m \u001b[43m    \u001b[49m\u001b[43m)\u001b[49m\n\u001b[0;32m   1582\u001b[0m \u001b[38;5;28;01mreturn\u001b[39;00m xf\n",
      "File \u001b[1;32mc:\\Users\\rokas\\Documents\\GitHub\\BCI\\mi-bci\\.pixi\\envs\\default\\lib\\site-packages\\mne\\filter.py:1627\u001b[0m, in \u001b[0;36m_mt_spectrum_proc\u001b[1;34m(x, sfreq, line_freqs, notch_widths, mt_bandwidth, p_value, picks, n_jobs, copy, filter_length)\u001b[0m\n\u001b[0;32m   1625\u001b[0m     \u001b[38;5;28;01mfor\u001b[39;00m ii, x_ \u001b[38;5;129;01min\u001b[39;00m \u001b[38;5;28menumerate\u001b[39m(x):\n\u001b[0;32m   1626\u001b[0m         \u001b[38;5;28;01mif\u001b[39;00m ii \u001b[38;5;129;01min\u001b[39;00m picks:\n\u001b[1;32m-> 1627\u001b[0m             x[ii], f \u001b[38;5;241m=\u001b[39m \u001b[43m_mt_spectrum_remove_win\u001b[49m\u001b[43m(\u001b[49m\n\u001b[0;32m   1628\u001b[0m \u001b[43m                \u001b[49m\u001b[43mx_\u001b[49m\u001b[43m,\u001b[49m\u001b[43m \u001b[49m\u001b[43msfreq\u001b[49m\u001b[43m,\u001b[49m\u001b[43m \u001b[49m\u001b[43mline_freqs\u001b[49m\u001b[43m,\u001b[49m\u001b[43m \u001b[49m\u001b[43mnotch_widths\u001b[49m\u001b[43m,\u001b[49m\u001b[43m \u001b[49m\u001b[43mwindow_fun\u001b[49m\u001b[43m,\u001b[49m\u001b[43m \u001b[49m\u001b[43mthreshold\u001b[49m\u001b[43m,\u001b[49m\u001b[43m \u001b[49m\u001b[43mget_wt\u001b[49m\n\u001b[0;32m   1629\u001b[0m \u001b[43m            \u001b[49m\u001b[43m)\u001b[49m\n\u001b[0;32m   1630\u001b[0m             freq_list\u001b[38;5;241m.\u001b[39mappend(f)\n\u001b[0;32m   1631\u001b[0m \u001b[38;5;28;01melse\u001b[39;00m:\n",
      "File \u001b[1;32mc:\\Users\\rokas\\Documents\\GitHub\\BCI\\mi-bci\\.pixi\\envs\\default\\lib\\site-packages\\mne\\filter.py:1684\u001b[0m, in \u001b[0;36m_mt_spectrum_remove_win\u001b[1;34m(x, sfreq, line_freqs, notch_widths, window_fun, threshold, get_thresh)\u001b[0m\n\u001b[0;32m   1681\u001b[0m     x_out[\u001b[38;5;241m.\u001b[39m\u001b[38;5;241m.\u001b[39m\u001b[38;5;241m.\u001b[39m, idx[\u001b[38;5;241m0\u001b[39m] : stop] \u001b[38;5;241m+\u001b[39m\u001b[38;5;241m=\u001b[39m x_\n\u001b[0;32m   1682\u001b[0m     idx[\u001b[38;5;241m0\u001b[39m] \u001b[38;5;241m=\u001b[39m stop\n\u001b[1;32m-> 1684\u001b[0m \u001b[43m_COLA\u001b[49m\u001b[43m(\u001b[49m\u001b[43mprocess\u001b[49m\u001b[43m,\u001b[49m\u001b[43m \u001b[49m\u001b[43mstore\u001b[49m\u001b[43m,\u001b[49m\u001b[43m \u001b[49m\u001b[43mn_times\u001b[49m\u001b[43m,\u001b[49m\u001b[43m \u001b[49m\u001b[43mn_samples\u001b[49m\u001b[43m,\u001b[49m\u001b[43m \u001b[49m\u001b[43mn_overlap\u001b[49m\u001b[43m,\u001b[49m\u001b[43m \u001b[49m\u001b[43msfreq\u001b[49m\u001b[43m,\u001b[49m\u001b[43m \u001b[49m\u001b[43mverbose\u001b[49m\u001b[38;5;241;43m=\u001b[39;49m\u001b[38;5;28;43;01mFalse\u001b[39;49;00m\u001b[43m)\u001b[49m\u001b[38;5;241;43m.\u001b[39;49m\u001b[43mfeed\u001b[49m\u001b[43m(\u001b[49m\u001b[43mx\u001b[49m\u001b[43m)\u001b[49m\n\u001b[0;32m   1685\u001b[0m \u001b[38;5;28;01massert\u001b[39;00m idx[\u001b[38;5;241m0\u001b[39m] \u001b[38;5;241m==\u001b[39m n_times\n\u001b[0;32m   1686\u001b[0m \u001b[38;5;28;01mreturn\u001b[39;00m x_out, rm_freqs\n",
      "File \u001b[1;32m<decorator-gen-36>:12\u001b[0m, in \u001b[0;36mfeed\u001b[1;34m(self, verbose, *datas, **kwargs)\u001b[0m\n",
      "File \u001b[1;32mc:\\Users\\rokas\\Documents\\GitHub\\BCI\\mi-bci\\.pixi\\envs\\default\\lib\\site-packages\\mne\\_ola.py:403\u001b[0m, in \u001b[0;36m_COLA.feed\u001b[1;34m(self, verbose, *datas, **kwargs)\u001b[0m\n\u001b[0;32m    399\u001b[0m \u001b[38;5;28;01mif\u001b[39;00m \u001b[38;5;129;01mnot\u001b[39;00m \u001b[38;5;28mall\u001b[39m(\n\u001b[0;32m    400\u001b[0m     proc\u001b[38;5;241m.\u001b[39mshape[\u001b[38;5;241m-\u001b[39m\u001b[38;5;241m1\u001b[39m] \u001b[38;5;241m==\u001b[39m this_len \u001b[38;5;241m==\u001b[39m this_window\u001b[38;5;241m.\u001b[39msize \u001b[38;5;28;01mfor\u001b[39;00m proc \u001b[38;5;129;01min\u001b[39;00m this_proc\n\u001b[0;32m    401\u001b[0m ):\n\u001b[0;32m    402\u001b[0m     \u001b[38;5;28;01mraise\u001b[39;00m \u001b[38;5;167;01mRuntimeError\u001b[39;00m(\u001b[38;5;124m\"\u001b[39m\u001b[38;5;124minternal indexing error\u001b[39m\u001b[38;5;124m\"\u001b[39m)\n\u001b[1;32m--> 403\u001b[0m outs \u001b[38;5;241m=\u001b[39m \u001b[38;5;28mself\u001b[39m\u001b[38;5;241m.\u001b[39m_process(\u001b[38;5;241m*\u001b[39mthis_proc, \u001b[38;5;241m*\u001b[39m\u001b[38;5;241m*\u001b[39mkwargs)\n\u001b[0;32m    404\u001b[0m \u001b[38;5;28;01mif\u001b[39;00m \u001b[38;5;28mself\u001b[39m\u001b[38;5;241m.\u001b[39m_out_buffers \u001b[38;5;129;01mis\u001b[39;00m \u001b[38;5;28;01mNone\u001b[39;00m:\n\u001b[0;32m    405\u001b[0m     max_len \u001b[38;5;241m=\u001b[39m np\u001b[38;5;241m.\u001b[39mmax(\u001b[38;5;28mself\u001b[39m\u001b[38;5;241m.\u001b[39mstops \u001b[38;5;241m-\u001b[39m \u001b[38;5;28mself\u001b[39m\u001b[38;5;241m.\u001b[39mstarts)\n",
      "File \u001b[1;32mc:\\Users\\rokas\\Documents\\GitHub\\BCI\\mi-bci\\.pixi\\envs\\default\\lib\\site-packages\\mne\\filter.py:1672\u001b[0m, in \u001b[0;36m_mt_spectrum_remove_win.<locals>.process\u001b[1;34m(x_)\u001b[0m\n\u001b[0;32m   1671\u001b[0m \u001b[38;5;28;01mdef\u001b[39;00m \u001b[38;5;21mprocess\u001b[39m(x_):\n\u001b[1;32m-> 1672\u001b[0m     out \u001b[38;5;241m=\u001b[39m \u001b[43m_mt_spectrum_remove\u001b[49m\u001b[43m(\u001b[49m\n\u001b[0;32m   1673\u001b[0m \u001b[43m        \u001b[49m\u001b[43mx_\u001b[49m\u001b[43m,\u001b[49m\u001b[43m \u001b[49m\u001b[43msfreq\u001b[49m\u001b[43m,\u001b[49m\u001b[43m \u001b[49m\u001b[43mline_freqs\u001b[49m\u001b[43m,\u001b[49m\u001b[43m \u001b[49m\u001b[43mnotch_widths\u001b[49m\u001b[43m,\u001b[49m\u001b[43m \u001b[49m\u001b[43mwindow_fun\u001b[49m\u001b[43m,\u001b[49m\u001b[43m \u001b[49m\u001b[43mthreshold\u001b[49m\u001b[43m,\u001b[49m\u001b[43m \u001b[49m\u001b[43mget_thresh\u001b[49m\n\u001b[0;32m   1674\u001b[0m \u001b[43m    \u001b[49m\u001b[43m)\u001b[49m\n\u001b[0;32m   1675\u001b[0m     rm_freqs\u001b[38;5;241m.\u001b[39mappend(out[\u001b[38;5;241m1\u001b[39m])\n\u001b[0;32m   1676\u001b[0m     \u001b[38;5;28;01mreturn\u001b[39;00m (out[\u001b[38;5;241m0\u001b[39m],)\n",
      "File \u001b[1;32mc:\\Users\\rokas\\Documents\\GitHub\\BCI\\mi-bci\\.pixi\\envs\\default\\lib\\site-packages\\mne\\filter.py:1765\u001b[0m, in \u001b[0;36m_mt_spectrum_remove\u001b[1;34m(x, sfreq, line_freqs, notch_widths, window_fun, threshold, get_thresh)\u001b[0m\n\u001b[0;32m   1762\u001b[0m     datafit \u001b[38;5;241m=\u001b[39m \u001b[38;5;241m0.0\u001b[39m\n\u001b[0;32m   1763\u001b[0m \u001b[38;5;28;01melse\u001b[39;00m:\n\u001b[0;32m   1764\u001b[0m     \u001b[38;5;66;03m# fitted sinusoids are summed, and subtracted from data\u001b[39;00m\n\u001b[1;32m-> 1765\u001b[0m     datafit \u001b[38;5;241m=\u001b[39m \u001b[43mnp\u001b[49m\u001b[38;5;241;43m.\u001b[39;49m\u001b[43msum\u001b[49m\u001b[43m(\u001b[49m\u001b[43mfits\u001b[49m\u001b[43m,\u001b[49m\u001b[43m \u001b[49m\u001b[43maxis\u001b[49m\u001b[38;5;241;43m=\u001b[39;49m\u001b[38;5;241;43m0\u001b[39;49m\u001b[43m)\u001b[49m\n\u001b[0;32m   1767\u001b[0m \u001b[38;5;28;01mreturn\u001b[39;00m x \u001b[38;5;241m-\u001b[39m datafit, rm_freqs\n",
      "File \u001b[1;32mc:\\Users\\rokas\\Documents\\GitHub\\BCI\\mi-bci\\.pixi\\envs\\default\\lib\\site-packages\\numpy\\core\\fromnumeric.py:2313\u001b[0m, in \u001b[0;36msum\u001b[1;34m(a, axis, dtype, out, keepdims, initial, where)\u001b[0m\n\u001b[0;32m   2310\u001b[0m         \u001b[38;5;28;01mreturn\u001b[39;00m out\n\u001b[0;32m   2311\u001b[0m     \u001b[38;5;28;01mreturn\u001b[39;00m res\n\u001b[1;32m-> 2313\u001b[0m \u001b[38;5;28;01mreturn\u001b[39;00m \u001b[43m_wrapreduction\u001b[49m\u001b[43m(\u001b[49m\u001b[43ma\u001b[49m\u001b[43m,\u001b[49m\u001b[43m \u001b[49m\u001b[43mnp\u001b[49m\u001b[38;5;241;43m.\u001b[39;49m\u001b[43madd\u001b[49m\u001b[43m,\u001b[49m\u001b[43m \u001b[49m\u001b[38;5;124;43m'\u001b[39;49m\u001b[38;5;124;43msum\u001b[39;49m\u001b[38;5;124;43m'\u001b[39;49m\u001b[43m,\u001b[49m\u001b[43m \u001b[49m\u001b[43maxis\u001b[49m\u001b[43m,\u001b[49m\u001b[43m \u001b[49m\u001b[43mdtype\u001b[49m\u001b[43m,\u001b[49m\u001b[43m \u001b[49m\u001b[43mout\u001b[49m\u001b[43m,\u001b[49m\u001b[43m \u001b[49m\u001b[43mkeepdims\u001b[49m\u001b[38;5;241;43m=\u001b[39;49m\u001b[43mkeepdims\u001b[49m\u001b[43m,\u001b[49m\n\u001b[0;32m   2314\u001b[0m \u001b[43m                      \u001b[49m\u001b[43minitial\u001b[49m\u001b[38;5;241;43m=\u001b[39;49m\u001b[43minitial\u001b[49m\u001b[43m,\u001b[49m\u001b[43m \u001b[49m\u001b[43mwhere\u001b[49m\u001b[38;5;241;43m=\u001b[39;49m\u001b[43mwhere\u001b[49m\u001b[43m)\u001b[49m\n",
      "File \u001b[1;32mc:\\Users\\rokas\\Documents\\GitHub\\BCI\\mi-bci\\.pixi\\envs\\default\\lib\\site-packages\\numpy\\core\\fromnumeric.py:88\u001b[0m, in \u001b[0;36m_wrapreduction\u001b[1;34m(obj, ufunc, method, axis, dtype, out, **kwargs)\u001b[0m\n\u001b[0;32m     85\u001b[0m         \u001b[38;5;28;01melse\u001b[39;00m:\n\u001b[0;32m     86\u001b[0m             \u001b[38;5;28;01mreturn\u001b[39;00m reduction(axis\u001b[38;5;241m=\u001b[39maxis, out\u001b[38;5;241m=\u001b[39mout, \u001b[38;5;241m*\u001b[39m\u001b[38;5;241m*\u001b[39mpasskwargs)\n\u001b[1;32m---> 88\u001b[0m \u001b[38;5;28;01mreturn\u001b[39;00m ufunc\u001b[38;5;241m.\u001b[39mreduce(obj, axis, dtype, out, \u001b[38;5;241m*\u001b[39m\u001b[38;5;241m*\u001b[39mpasskwargs)\n",
      "\u001b[1;31mKeyboardInterrupt\u001b[0m: "
     ]
    }
   ],
   "source": [
    "from helper_functions import preprocess_raw_pyprep\n",
    "raw_cleaned = preprocess_raw_pyprep(raw)"
   ]
  },
  {
   "cell_type": "markdown",
   "metadata": {},
   "source": [
    "#### Autoreject\n",
    "To process data using Autoreject, preprocess_raw_autoreject() fun can be used. Function automatically converts mne-raw into mne-epochs object. "
   ]
  },
  {
   "cell_type": "code",
   "execution_count": null,
   "metadata": {},
   "outputs": [
    {
     "ename": "TypeError",
     "evalue": "preprocess_raw_autoreject() missing 1 required positional argument: 'event_id'",
     "output_type": "error",
     "traceback": [
      "\u001b[1;31m---------------------------------------------------------------------------\u001b[0m",
      "\u001b[1;31mTypeError\u001b[0m                                 Traceback (most recent call last)",
      "Cell \u001b[1;32mIn[10], line 2\u001b[0m\n\u001b[0;32m      1\u001b[0m \u001b[38;5;28;01mfrom\u001b[39;00m \u001b[38;5;21;01mhelper_functions\u001b[39;00m \u001b[38;5;28;01mimport\u001b[39;00m preprocess_raw_autoreject\n\u001b[1;32m----> 2\u001b[0m epochs_raw_autoreject \u001b[38;5;241m=\u001b[39m \u001b[43mpreprocess_raw_autoreject\u001b[49m\u001b[43m(\u001b[49m\u001b[43mraw\u001b[49m\u001b[43m)\u001b[49m \u001b[38;5;66;03m#Fun can return epoched raw if include_raw argument is provided.\u001b[39;00m\n",
      "\u001b[1;31mTypeError\u001b[0m: preprocess_raw_autoreject() missing 1 required positional argument: 'event_id'"
     ]
    }
   ],
   "source": [
    "from helper_functions import preprocess_raw_autoreject\n",
    "epochs_raw_autoreject = preprocess_raw_autoreject(raw) #Fun can return epoched raw if include_raw argument is provided."
   ]
  },
  {
   "cell_type": "markdown",
   "metadata": {},
   "source": [
    "#### Combining autreject and pyprep\n",
    "Autoreject and pyprep can be used in combination with preprocess_raw() fun. Function returns a list of combination of cleaned and uncleaned mne-raw and mne-epoch objects in specified order: <br>\n",
    "\n",
    "<ins>[epochs_raw, epochs_raw_cleaned, epochs_raw_autoreject, epochs_raw_cleaned_autoreject, raw_cleaned, raw] </ins> \n",
    "\n",
    "**raw** - unprocessed mne-raw obj <br>\n",
    "**raw_cleaned** - mne-raw processed with pyprep <br>\n",
    "**epochs_raw** - mne-raw turned into mne-epochs <br>\n",
    "**epochs_raw_cleaned** - mne-raw processed with pyprep <br>\n",
    "**epochs_raw_autoreject** - mne-raw turned in mne-epochs and processed with autoreject <br>\n",
    "**epochs_raw_cleaned_autoreject** - mne-raw processed with pyprep, turned in mne-epochs and processed with autoreject <br>\n"
   ]
  },
  {
   "cell_type": "code",
   "execution_count": null,
   "metadata": {},
   "outputs": [],
   "source": [
    "from helper_functions import preprocess_raw\n",
    "data = preprocess_raw(raw) #event_id reik dadet"
   ]
  },
  {
   "cell_type": "markdown",
   "metadata": {},
   "source": [
    "### Saving processed data\n",
    "Saving processed data can be done with save_epochs() fun. Data mus be provided with a dict. Only keys mentioned in <br> **Combining autoreject and pyprep** section will be recognized by saving function. Also dataset No must be provided"
   ]
  },
  {
   "cell_type": "code",
   "execution_count": null,
   "metadata": {},
   "outputs": [],
   "source": [
    "from helper_functions import save_epochs\n",
    "[epochs_raw, epochs_raw_cleaned, epochs_raw_autoreject, epochs_raw_cleaned_autoreject, raw_cleaned, raw] = data\n",
    "\n",
    "dict_to_save = {\n",
    "    'epochs_raw': epochs_raw,\n",
    "    'epochs_raw_cleaned': epochs_raw_cleaned,\n",
    "    'epochs_raw_autoreject': epochs_raw_autoreject,\n",
    "    'epochs_raw_cleaned_autoreject': epochs_raw_cleaned_autoreject,\n",
    "    'raw_cleaned': raw_cleaned,\n",
    "    'raw': raw\n",
    "}\n",
    "save_epochs(dict_to_save, dataset_no='20', subject=1, run=1, paradigm='MI')"
   ]
  },
  {
   "cell_type": "markdown",
   "metadata": {},
   "source": [
    "### Loading processed data\n",
    "Loading of processed data can be done with load_procesed_data() fun. Function loads single subject/run data. It can be used to load previously saved dict. Processing type must be defined in include argument, or fun will try to load all procesing types defined in **Combining autoreject and pyprep**"
   ]
  },
  {
   "cell_type": "code",
   "execution_count": null,
   "metadata": {},
   "outputs": [],
   "source": [
    "from helper_functions import load_procesed_data\n",
    "data = load_procesed_data(dataset_no='1', paradigm='CLA', subject=1,run=0)"
   ]
  }
 ],
 "metadata": {
  "kernelspec": {
   "display_name": "default",
   "language": "python",
   "name": "python3"
  },
  "language_info": {
   "codemirror_mode": {
    "name": "ipython",
    "version": 3
   },
   "file_extension": ".py",
   "mimetype": "text/x-python",
   "name": "python",
   "nbconvert_exporter": "python",
   "pygments_lexer": "ipython3",
   "version": "3.10.15"
  }
 },
 "nbformat": 4,
 "nbformat_minor": 2
}
