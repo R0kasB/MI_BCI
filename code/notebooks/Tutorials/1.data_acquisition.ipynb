{
 "cells": [
  {
   "cell_type": "code",
   "execution_count": 1,
   "metadata": {},
   "outputs": [],
   "source": [
    "import os\n",
    "import sys\n",
    "\n",
    "d = os.getcwd()\n",
    "while os.path.basename(d).lower() != 'mi_bci':\n",
    "    d = os.path.dirname(d)\n",
    "os.chdir(d)\n",
    "sys.path.append(os.path.join(os.getcwd(), 'code'))"
   ]
  },
  {
   "cell_type": "markdown",
   "metadata": {},
   "source": [
    "### Data is handled trough classes\n",
    "#### 1. Importing datasets"
   ]
  },
  {
   "cell_type": "code",
   "execution_count": 2,
   "metadata": {},
   "outputs": [],
   "source": [
    "# from datasets import Cho2017 #1\n",
    "# from datasets import Physionet #2\n",
    "# from datasets import Kaya2018 #3\n",
    "# from datasets import BCI4_1 #4\n",
    "# from datasets import BCI4_2a #5\n",
    "from datasets import Lee2019 #20"
   ]
  },
  {
   "cell_type": "markdown",
   "metadata": {},
   "source": [
    "#### 2. Initializing dataset classes"
   ]
  },
  {
   "cell_type": "code",
   "execution_count": 3,
   "metadata": {},
   "outputs": [],
   "source": [
    "lee = Lee2019()"
   ]
  },
  {
   "cell_type": "code",
   "execution_count": 4,
   "metadata": {},
   "outputs": [
    {
     "name": "stdout",
     "output_type": "stream",
     "text": [
      "Dataset:\n",
      "Subjects: [1, 2, 3, 4, 5, 6, 7, 8, 9, 10, 11, 12, 13, 14, 15, 16, 17, 18, 19, 20, 21, 22, 23, 24, 25, 26, 27, 28, 29, 30, 31, 32, 33, 34, 35, 36, 37, 38, 39, 40, 41, 42, 43, 44, 45, 46, 47, 48, 49, 50, 51, 52, 53, 54]\n",
      "Sessions per subject: 2\n",
      "Events: {'left_hand': 2, 'right_hand': 1}\n",
      "Code: Lee2019 #20\n",
      "Interval: []\n",
      "DOI: \n",
      "Additional info: paradigms = 'MI','ERP','SSVEP'\n"
     ]
    }
   ],
   "source": [
    "print(lee)"
   ]
  },
  {
   "cell_type": "markdown",
   "metadata": {},
   "source": [
    "#### 3. Downloading datasets    \n",
    "dataset.initialize() downloads all data available in the dataset. <br>\n",
    ".mat files are converted to mne-raw and saved as .fif in /data dir"
   ]
  },
  {
   "cell_type": "code",
   "execution_count": null,
   "metadata": {},
   "outputs": [],
   "source": [
    "lee.initialize() #downloads full dataset "
   ]
  },
  {
   "cell_type": "code",
   "execution_count": 5,
   "metadata": {},
   "outputs": [
    {
     "name": "stderr",
     "output_type": "stream",
     "text": [
      "2025-05-26 19:55:23,155 - Lee2019 - INFO - File c:\\Users\\rokas\\Documents\\GitHub\\BSc\\mi_bci\\data\\raw\\20\\Questionnaire_results.csv already exists. Skipping download.\n",
      "2025-05-26 19:55:23,156 - Lee2019 - INFO - File c:\\Users\\rokas\\Documents\\GitHub\\BSc\\mi_bci\\data\\raw\\20\\random_cell_order.mat already exists. Skipping download.\n",
      "2025-05-26 19:55:23,157 - Lee2019 - INFO - File c:\\Users\\rokas\\Documents\\GitHub\\BSc\\mi_bci\\data\\raw\\20\\readme.txt already exists. Skipping download.\n",
      "2025-05-26 19:55:23,158 - Lee2019 - INFO - File c:\\Users\\rokas\\Documents\\GitHub\\BSc\\mi_bci\\data\\raw\\20\\sess01_subj01_EEG_MI.mat already exists. Skipping download.\n",
      "2025-05-26 19:55:23,158 - Lee2019 - INFO - File c:\\Users\\rokas\\Documents\\GitHub\\BSc\\mi_bci\\data\\raw\\20\\sess02_subj01_EEG_MI.mat already exists. Skipping download.\n",
      "2025-05-26 19:55:23,159 - Lee2019 - INFO - File c:\\Users\\rokas\\Documents\\GitHub\\BSc\\mi_bci\\data\\raw\\20\\sess01_subj01_EEG_Artifact.mat already exists. Skipping download.\n",
      "2025-05-26 19:55:23,159 - Lee2019 - INFO - File c:\\Users\\rokas\\Documents\\GitHub\\BSc\\mi_bci\\data\\raw\\20\\sess02_subj01_EEG_Artifact.mat already exists. Skipping download.\n",
      "2025-05-26 19:55:28,406 - Lee2019 - INFO - Loaded mat for 1 subject, 1 session\n"
     ]
    },
    {
     "name": "stdout",
     "output_type": "stream",
     "text": [
      "100 events found on stim channel STI 014\n",
      "Event IDs: [1 2]\n"
     ]
    },
    {
     "name": "stderr",
     "output_type": "stream",
     "text": [
      "2025-05-26 19:55:28,689 - Lee2019 - INFO - Added anotations to raw\n",
      "2025-05-26 19:55:34,022 - Lee2019 - INFO - Loaded mat for 1 subject, 2 session\n"
     ]
    },
    {
     "name": "stdout",
     "output_type": "stream",
     "text": [
      "100 events found on stim channel STI 014\n",
      "Event IDs: [1 2]\n"
     ]
    },
    {
     "name": "stderr",
     "output_type": "stream",
     "text": [
      "2025-05-26 19:55:34,307 - Lee2019 - INFO - Added anotations to raw\n"
     ]
    },
    {
     "name": "stdout",
     "output_type": "stream",
     "text": [
      "Overwriting existing file.\n",
      "Writing c:\\Users\\rokas\\Documents\\GitHub\\BSc\\mi_bci\\data\\raw_fif\\20\\MI\\s01.01_raw.fif\n",
      "Closing c:\\Users\\rokas\\Documents\\GitHub\\BSc\\mi_bci\\data\\raw_fif\\20\\MI\\s01.01_raw.fif\n",
      "[done]\n"
     ]
    },
    {
     "name": "stderr",
     "output_type": "stream",
     "text": [
      "2025-05-26 19:55:35,074 - Lee2019 - INFO - s01.01 saved as s01.01.fif in c:\\Users\\rokas\\Documents\\GitHub\\BSc\\mi_bci\\data\\raw_fif\\20\\MI\n"
     ]
    },
    {
     "name": "stdout",
     "output_type": "stream",
     "text": [
      "Overwriting existing file.\n",
      "Writing c:\\Users\\rokas\\Documents\\GitHub\\BSc\\mi_bci\\data\\raw_fif\\20\\MI\\s01.02_raw.fif\n",
      "Closing c:\\Users\\rokas\\Documents\\GitHub\\BSc\\mi_bci\\data\\raw_fif\\20\\MI\\s01.02_raw.fif\n",
      "[done]\n"
     ]
    },
    {
     "name": "stderr",
     "output_type": "stream",
     "text": [
      "2025-05-26 19:55:35,852 - Lee2019 - INFO - s01.02 saved as s01.02.fif in c:\\Users\\rokas\\Documents\\GitHub\\BSc\\mi_bci\\data\\raw_fif\\20\\MI\n",
      "2025-05-26 19:55:35,852 - Lee2019 - INFO - Succesfuly saved s01.01 and s01.02 as .fif to c:\\Users\\rokas\\Documents\\GitHub\\BSc\\mi_bci\\data\\raw_fif\\20\\MI\n",
      "2025-05-26 19:55:35,852 - Lee2019 - ERROR - Some files were not processed. Files processed: 2, Total files: 6\n"
     ]
    }
   ],
   "source": [
    "# Now only one subject data will be downloaded and converted to .fif\n",
    "lee_first_subj = Lee2019(subjects=[1])\n",
    "lee_first_subj.initialize()"
   ]
  },
  {
   "cell_type": "markdown",
   "metadata": {},
   "source": [
    "#### 4. Loading mne-raw data\n",
    "To load single raw, dataset.load_one_raw_fif() fun can be used"
   ]
  },
  {
   "cell_type": "code",
   "execution_count": 6,
   "metadata": {},
   "outputs": [
    {
     "name": "stdout",
     "output_type": "stream",
     "text": [
      "Opening raw data file c:\\Users\\rokas\\Documents\\GitHub\\BSc\\mi_bci\\data\\raw_fif\\20\\MI\\s01.01_raw.fif...\n",
      "    Range : 0 ... 1418039 =      0.000 ...  1418.039 secs\n",
      "Ready.\n",
      "Reading 0 ... 1418039  =      0.000 ...  1418.039 secs...\n"
     ]
    }
   ],
   "source": [
    "raw = lee_first_subj.load_one_raw_fif(subject=1,run=1,paradigm='MI')"
   ]
  },
  {
   "cell_type": "markdown",
   "metadata": {},
   "source": [
    "Data is returned as mne-raw"
   ]
  },
  {
   "cell_type": "code",
   "execution_count": 7,
   "metadata": {},
   "outputs": [
    {
     "data": {
      "text/html": [
       "<script type=\"text/javascript\">\n",
       "    // must be `var` (not `const`) because this can get embedded multiple times on a page\n",
       "var toggleVisibility = (className) => {\n",
       "\n",
       "    const elements = document.querySelectorAll(`.${className}`);\n",
       "\n",
       "    elements.forEach(element => {\n",
       "        if (element.classList.contains(\"mne-repr-section-header\")) {\n",
       "            return  // Don't collapse the section header row\n",
       "        }\n",
       "        element.classList.toggle(\"mne-repr-collapsed\");\n",
       "    });\n",
       "\n",
       "    // trigger caret to rotate\n",
       "    var sel = `.mne-repr-section-header.${className} > th.mne-repr-section-toggle > button`;\n",
       "    const button = document.querySelector(sel);\n",
       "    button.classList.toggle(\"collapsed\");\n",
       "\n",
       "    // adjust tooltip\n",
       "    sel = `tr.mne-repr-section-header.${className}`;\n",
       "    const secHeadRow = document.querySelector(sel);\n",
       "    secHeadRow.classList.toggle(\"collapsed\");\n",
       "    secHeadRow.title = secHeadRow.title === \"Hide section\" ? \"Show section\" : \"Hide section\";\n",
       "}\n",
       "</script>\n",
       "\n",
       "<style type=\"text/css\">\n",
       "    /*\n",
       "Styles in this section apply both to the sphinx-built website docs and to notebooks\n",
       "rendered in an IDE or in Jupyter. In our web docs, styles here are complemented by\n",
       "doc/_static/styles.css and other CSS files (e.g. from the sphinx theme, sphinx-gallery,\n",
       "or bootstrap). In IDEs/Jupyter, those style files are unavailable, so only the rules in\n",
       "this file apply (plus whatever default styling the IDE applies).\n",
       "*/\n",
       ".mne-repr-table {\n",
       "    display: inline;  /* prevent using full container width */\n",
       "}\n",
       ".mne-repr-table tr.mne-repr-section-header > th {\n",
       "    padding-top: 1rem;\n",
       "    text-align: left;\n",
       "    vertical-align: middle;\n",
       "}\n",
       ".mne-repr-section-toggle > button {\n",
       "    all: unset;\n",
       "    display: block;\n",
       "    height: 1rem;\n",
       "    width: 1rem;\n",
       "}\n",
       ".mne-repr-section-toggle > button > svg {\n",
       "    height: 60%;\n",
       "}\n",
       "\n",
       "/* transition (rotation) effects on the collapser button */\n",
       ".mne-repr-section-toggle > button.collapsed > svg {\n",
       "    transition: 0.1s ease-out;\n",
       "    transform: rotate(-90deg);\n",
       "}\n",
       ".mne-repr-section-toggle > button:not(.collapsed) > svg {\n",
       "    transition: 0.1s ease-out;\n",
       "    transform: rotate(0deg);\n",
       "}\n",
       "\n",
       "/* hide collapsed table rows */\n",
       ".mne-repr-collapsed {\n",
       "    display: none;\n",
       "}\n",
       "\n",
       "\n",
       "@layer {\n",
       "    /*\n",
       "    Selectors in a `@layer` will always be lower-precedence than selectors outside the\n",
       "    layer. So even though e.g. `div.output_html` is present in the sphinx-rendered\n",
       "    website docs, the styles here won't take effect there as long as some other rule\n",
       "    somewhere in the page's CSS targets the same element.\n",
       "\n",
       "    In IDEs or Jupyter notebooks, though, the CSS files from the sphinx theme,\n",
       "    sphinx-gallery, and bootstrap are unavailable, so these styles will apply.\n",
       "\n",
       "    Notes:\n",
       "\n",
       "    - the selector `.accordion-body` is for MNE Reports\n",
       "    - the selector `.output_html` is for VSCode's notebook interface\n",
       "    - the selector `.jp-RenderedHTML` is for Jupyter notebook\n",
       "    - variables starting with `--theme-` are VSCode-specific.\n",
       "    - variables starting with `--jp-` are Jupyter styles, *some of which* are also\n",
       "      available in VSCode. Here we try the `--theme-` variable first, then fall back to\n",
       "      the `--jp-` ones.\n",
       "    */\n",
       "    .mne-repr-table {\n",
       "        --mne-toggle-color: var(--theme-foreground, var(--jp-ui-font-color1));\n",
       "        --mne-button-bg-color: var(--theme-button-background, var(--jp-info-color0, var(--jp-content-link-color)));\n",
       "        --mne-button-fg-color: var(--theme-button-foreground, var(--jp-ui-inverse-font-color0, var(--jp-editor-background)));\n",
       "        --mne-button-hover-bg-color: var(--theme-button-hover-background, var(--jp-info-color1));\n",
       "        --mne-button-radius: var(--jp-border-radius, 0.25rem);\n",
       "    }\n",
       "    /* chevron position/alignment; in VSCode it looks ok without adjusting */\n",
       "    .accordion-body .mne-repr-section-toggle > button,\n",
       "    .jp-RenderedHTML .mne-repr-section-toggle > button {\n",
       "        padding: 0 0 45% 25% !important;\n",
       "    }\n",
       "    /* chevron color; MNE Report doesn't have light/dark mode */\n",
       "    div.output_html .mne-repr-section-toggle > button > svg > path,\n",
       "    .jp-RenderedHTML .mne-repr-section-toggle > button > svg > path {\n",
       "        fill: var(--mne-toggle-color);\n",
       "    }\n",
       "    .accordion-body .mne-ch-names-btn,\n",
       "    div.output_html .mne-ch-names-btn,\n",
       "    .jp-RenderedHTML .mne-ch-names-btn {\n",
       "        -webkit-border-radius: var(--mne-button-radius);\n",
       "        -moz-border-radius: var(--mne-button-radius);\n",
       "        border-radius: var(--mne-button-radius);\n",
       "        border: none;\n",
       "        background-image: none;\n",
       "        background-color: var(--mne-button-bg-color);\n",
       "        color: var(--mne-button-fg-color);\n",
       "        font-size: inherit;\n",
       "        min-width: 1.5rem;\n",
       "        padding: 0.25rem;\n",
       "        text-align: center;\n",
       "        text-decoration: none;\n",
       "    }\n",
       "    .accordion-body .mne-ch-names-btn:hover,\n",
       "    div.output_html .mne.ch-names-btn:hover,\n",
       "    .jp-RenderedHTML .mne-ch-names-btn:hover {\n",
       "        background-color: var(--mne-button-hover-bg-color);\n",
       "        text-decoration: underline;\n",
       "    }\n",
       "    .accordion-body .mne-ch-names-btn:focus-visible,\n",
       "    div.output_html .mne-ch-names-btn:focus-visible,\n",
       "    .jp-RenderedHTML .mne-ch-names-btn:focus-visible {\n",
       "        outline: 0.1875rem solid var(--mne-button-bg-color) !important;\n",
       "        outline-offset: 0.1875rem !important;\n",
       "    }\n",
       "}\n",
       "</style>\n",
       "\n",
       "\n",
       "\n",
       "<table class=\"table mne-repr-table\">\n",
       "    \n",
       "\n",
       "\n",
       "\n",
       "\n",
       "\n",
       "\n",
       "\n",
       "<tr class=\"mne-repr-section-header general-997e8418-9406-4349-bcfd-51ed04af70ce\"\n",
       "     title=\"Hide section\" \n",
       "    onclick=\"toggleVisibility('general-997e8418-9406-4349-bcfd-51ed04af70ce')\">\n",
       "    <th class=\"mne-repr-section-toggle\">\n",
       "        <button >\n",
       "            <svg xmlns=\"http://www.w3.org/2000/svg\" viewBox=\"0 0 512 512\"><!--!Font Awesome Free 6.6.0 by @fontawesome - https://fontawesome.com License - https://fontawesome.com/license/free Copyright 2024 Fonticons, Inc.--><path d=\"M233.4 406.6c12.5 12.5 32.8 12.5 45.3 0l192-192c12.5-12.5 12.5-32.8 0-45.3s-32.8-12.5-45.3 0L256 338.7 86.6 169.4c-12.5-12.5-32.8-12.5-45.3 0s-12.5 32.8 0 45.3l192 192z\"/></svg>\n",
       "        </button>\n",
       "    </th>\n",
       "    <th colspan=\"2\">\n",
       "        <strong>General</strong>\n",
       "    </th>\n",
       "</tr>\n",
       "\n",
       "\n",
       "<tr class=\"repr-element general-997e8418-9406-4349-bcfd-51ed04af70ce \">\n",
       "    <td class=\"mne-repr-section-toggle\"></td>\n",
       "    <td>Filename(s)</td>\n",
       "    <td>\n",
       "        \n",
       "        s01.01_raw.fif\n",
       "        \n",
       "        \n",
       "    </td>\n",
       "</tr>\n",
       "\n",
       "<tr class=\"repr-element general-997e8418-9406-4349-bcfd-51ed04af70ce \">\n",
       "    <td class=\"mne-repr-section-toggle\"></td>\n",
       "    <td>MNE object type</td>\n",
       "    <td>Raw</td>\n",
       "</tr>\n",
       "<tr class=\"repr-element general-997e8418-9406-4349-bcfd-51ed04af70ce \">\n",
       "    <td class=\"mne-repr-section-toggle\"></td>\n",
       "    <td>Measurement date</td>\n",
       "    \n",
       "    <td>Unknown</td>\n",
       "    \n",
       "</tr>\n",
       "<tr class=\"repr-element general-997e8418-9406-4349-bcfd-51ed04af70ce \">\n",
       "    <td class=\"mne-repr-section-toggle\"></td>\n",
       "    <td>Participant</td>\n",
       "    \n",
       "    <td>Unknown</td>\n",
       "    \n",
       "</tr>\n",
       "<tr class=\"repr-element general-997e8418-9406-4349-bcfd-51ed04af70ce \">\n",
       "    <td class=\"mne-repr-section-toggle\"></td>\n",
       "    <td>Experimenter</td>\n",
       "    \n",
       "    <td>Unknown</td>\n",
       "    \n",
       "</tr>\n",
       "    \n",
       "\n",
       "\n",
       "\n",
       "\n",
       "\n",
       "\n",
       "\n",
       "<tr class=\"mne-repr-section-header acquisition-6b2a2e59-fdbc-4434-8a49-fd88c7c927fc\"\n",
       "     title=\"Hide section\" \n",
       "    onclick=\"toggleVisibility('acquisition-6b2a2e59-fdbc-4434-8a49-fd88c7c927fc')\">\n",
       "    <th class=\"mne-repr-section-toggle\">\n",
       "        <button >\n",
       "            <svg xmlns=\"http://www.w3.org/2000/svg\" viewBox=\"0 0 512 512\"><!--!Font Awesome Free 6.6.0 by @fontawesome - https://fontawesome.com License - https://fontawesome.com/license/free Copyright 2024 Fonticons, Inc.--><path d=\"M233.4 406.6c12.5 12.5 32.8 12.5 45.3 0l192-192c12.5-12.5 12.5-32.8 0-45.3s-32.8-12.5-45.3 0L256 338.7 86.6 169.4c-12.5-12.5-32.8-12.5-45.3 0s-12.5 32.8 0 45.3l192 192z\"/></svg>\n",
       "        </button>\n",
       "    </th>\n",
       "    <th colspan=\"2\">\n",
       "        <strong>Acquisition</strong>\n",
       "    </th>\n",
       "</tr>\n",
       "\n",
       "\n",
       "<tr class=\"repr-element acquisition-6b2a2e59-fdbc-4434-8a49-fd88c7c927fc \">\n",
       "    <td class=\"mne-repr-section-toggle\"></td>\n",
       "    <td>Duration</td>\n",
       "    <td>00:23:39 (HH:MM:SS)</td>\n",
       "</tr>\n",
       "\n",
       "\n",
       "\n",
       "\n",
       "\n",
       "\n",
       "\n",
       "\n",
       "<tr class=\"repr-element acquisition-6b2a2e59-fdbc-4434-8a49-fd88c7c927fc \">\n",
       "    <td class=\"mne-repr-section-toggle\"></td>\n",
       "    <td>Sampling frequency</td>\n",
       "    <td>1000.00 Hz</td>\n",
       "</tr>\n",
       "\n",
       "\n",
       "<tr class=\"repr-element acquisition-6b2a2e59-fdbc-4434-8a49-fd88c7c927fc \">\n",
       "    <td class=\"mne-repr-section-toggle\"></td>\n",
       "    <td>Time points</td>\n",
       "    <td>1,418,040</td>\n",
       "</tr>\n",
       "\n",
       "\n",
       "    \n",
       "\n",
       "\n",
       "\n",
       "\n",
       "\n",
       "\n",
       "\n",
       "<tr class=\"mne-repr-section-header channels-faedc6b4-cc7a-4489-be61-29eb423f77fc\"\n",
       "     title=\"Hide section\" \n",
       "    onclick=\"toggleVisibility('channels-faedc6b4-cc7a-4489-be61-29eb423f77fc')\">\n",
       "    <th class=\"mne-repr-section-toggle\">\n",
       "        <button >\n",
       "            <svg xmlns=\"http://www.w3.org/2000/svg\" viewBox=\"0 0 512 512\"><!--!Font Awesome Free 6.6.0 by @fontawesome - https://fontawesome.com License - https://fontawesome.com/license/free Copyright 2024 Fonticons, Inc.--><path d=\"M233.4 406.6c12.5 12.5 32.8 12.5 45.3 0l192-192c12.5-12.5 12.5-32.8 0-45.3s-32.8-12.5-45.3 0L256 338.7 86.6 169.4c-12.5-12.5-32.8-12.5-45.3 0s-12.5 32.8 0 45.3l192 192z\"/></svg>\n",
       "        </button>\n",
       "    </th>\n",
       "    <th colspan=\"2\">\n",
       "        <strong>Channels</strong>\n",
       "    </th>\n",
       "</tr>\n",
       "\n",
       "\n",
       "    \n",
       "<tr class=\"repr-element channels-faedc6b4-cc7a-4489-be61-29eb423f77fc \">\n",
       "    <td class=\"mne-repr-section-toggle\"></td>\n",
       "    <td>EEG</td>\n",
       "    <td>\n",
       "        <button class=\"mne-ch-names-btn sd-sphinx-override sd-btn sd-btn-info sd-text-wrap sd-shadow-sm\" onclick=\"alert('Good EEG:\\n\\nFp1, Fp2, F7, F3, Fz, F4, F8, FC5, FC1, FC2, FC6, T7, C3, Cz, C4, T8, TP9, CP5, CP1, CP2, CP6, TP10, P7, P3, Pz, P4, P8, PO9, O1, Oz, O2, PO10, FC3, FC4, C5, C1, C2, C6, CP3, CPz, CP4, P1, P2, POz, FT9, FTT9h, TTP7h, TP7, TPP9h, FT10, FTT10h, TPP8h, TP8, TPP10h, F9, F10, AF7, AF3, AF4, AF8, PO3, PO4')\" title=\"(Click to open in popup)&#13;&#13;Fp1, Fp2, F7, F3, Fz, F4, F8, FC5, FC1, FC2, FC6, T7, C3, Cz, C4, T8, TP9, CP5, CP1, CP2, CP6, TP10, P7, P3, Pz, P4, P8, PO9, O1, Oz, O2, PO10, FC3, FC4, C5, C1, C2, C6, CP3, CPz, CP4, P1, P2, POz, FT9, FTT9h, TTP7h, TP7, TPP9h, FT10, FTT10h, TPP8h, TP8, TPP10h, F9, F10, AF7, AF3, AF4, AF8, PO3, PO4\">\n",
       "            62\n",
       "        </button>\n",
       "\n",
       "        \n",
       "    </td>\n",
       "</tr>\n",
       "\n",
       "    \n",
       "<tr class=\"repr-element channels-faedc6b4-cc7a-4489-be61-29eb423f77fc \">\n",
       "    <td class=\"mne-repr-section-toggle\"></td>\n",
       "    <td>EMG</td>\n",
       "    <td>\n",
       "        <button class=\"mne-ch-names-btn sd-sphinx-override sd-btn sd-btn-info sd-text-wrap sd-shadow-sm\" onclick=\"alert('Good EMG:\\n\\nEMG1, EMG2, EMG3, EMG4')\" title=\"(Click to open in popup)&#13;&#13;EMG1, EMG2, EMG3, EMG4\">\n",
       "            4\n",
       "        </button>\n",
       "\n",
       "        \n",
       "    </td>\n",
       "</tr>\n",
       "\n",
       "    \n",
       "<tr class=\"repr-element channels-faedc6b4-cc7a-4489-be61-29eb423f77fc \">\n",
       "    <td class=\"mne-repr-section-toggle\"></td>\n",
       "    <td>Stimulus</td>\n",
       "    <td>\n",
       "        <button class=\"mne-ch-names-btn sd-sphinx-override sd-btn sd-btn-info sd-text-wrap sd-shadow-sm\" onclick=\"alert('Good Stimulus:\\n\\nSTI&nbsp;014')\" title=\"(Click to open in popup)&#13;&#13;STI&nbsp;014\">\n",
       "            1\n",
       "        </button>\n",
       "\n",
       "        \n",
       "    </td>\n",
       "</tr>\n",
       "\n",
       "\n",
       "<tr class=\"repr-element channels-faedc6b4-cc7a-4489-be61-29eb423f77fc \">\n",
       "    <td class=\"mne-repr-section-toggle\"></td>\n",
       "    <td>Head & sensor digitization</td>\n",
       "    \n",
       "    <td>65 points</td>\n",
       "    \n",
       "</tr>\n",
       "    \n",
       "\n",
       "\n",
       "\n",
       "\n",
       "\n",
       "\n",
       "\n",
       "<tr class=\"mne-repr-section-header filters-e34963ef-2adb-40b7-b677-ca0b633f986f\"\n",
       "     title=\"Hide section\" \n",
       "    onclick=\"toggleVisibility('filters-e34963ef-2adb-40b7-b677-ca0b633f986f')\">\n",
       "    <th class=\"mne-repr-section-toggle\">\n",
       "        <button >\n",
       "            <svg xmlns=\"http://www.w3.org/2000/svg\" viewBox=\"0 0 512 512\"><!--!Font Awesome Free 6.6.0 by @fontawesome - https://fontawesome.com License - https://fontawesome.com/license/free Copyright 2024 Fonticons, Inc.--><path d=\"M233.4 406.6c12.5 12.5 32.8 12.5 45.3 0l192-192c12.5-12.5 12.5-32.8 0-45.3s-32.8-12.5-45.3 0L256 338.7 86.6 169.4c-12.5-12.5-32.8-12.5-45.3 0s-12.5 32.8 0 45.3l192 192z\"/></svg>\n",
       "        </button>\n",
       "    </th>\n",
       "    <th colspan=\"2\">\n",
       "        <strong>Filters</strong>\n",
       "    </th>\n",
       "</tr>\n",
       "\n",
       "\n",
       "<tr class=\"repr-element filters-e34963ef-2adb-40b7-b677-ca0b633f986f \">\n",
       "    <td class=\"mne-repr-section-toggle\"></td>\n",
       "    <td>Highpass</td>\n",
       "    <td>0.00 Hz</td>\n",
       "</tr>\n",
       "\n",
       "\n",
       "<tr class=\"repr-element filters-e34963ef-2adb-40b7-b677-ca0b633f986f \">\n",
       "    <td class=\"mne-repr-section-toggle\"></td>\n",
       "    <td>Lowpass</td>\n",
       "    <td>500.00 Hz</td>\n",
       "</tr>\n",
       "\n",
       "\n",
       "</table>"
      ],
      "text/plain": [
       "<Raw | s01.01_raw.fif, 67 x 1418040 (1418.0 s), ~725.0 MiB, data loaded>"
      ]
     },
     "execution_count": 7,
     "metadata": {},
     "output_type": "execute_result"
    }
   ],
   "source": [
    "raw"
   ]
  },
  {
   "cell_type": "markdown",
   "metadata": {},
   "source": [
    "Data can also be loaded when calling dataset.load_fif_data() fun. <br>\n",
    "To access single raw, same arguments as in dataset.load_one_raw_fif() are used<br>\n",
    "If no arguments are provided, whole dataset is returned"
   ]
  },
  {
   "cell_type": "code",
   "execution_count": 8,
   "metadata": {},
   "outputs": [
    {
     "name": "stdout",
     "output_type": "stream",
     "text": [
      "Opening raw data file c:\\Users\\rokas\\Documents\\GitHub\\BSc\\mi_bci\\data\\raw_fif\\20\\MI\\s01.01_raw.fif...\n",
      "    Range : 0 ... 1418039 =      0.000 ...  1418.039 secs\n",
      "Ready.\n",
      "Reading 0 ... 1418039  =      0.000 ...  1418.039 secs...\n",
      "Opening raw data file c:\\Users\\rokas\\Documents\\GitHub\\BSc\\mi_bci\\data\\raw_fif\\20\\MI\\s01.02_raw.fif...\n",
      "    Range : 0 ... 1519159 =      0.000 ...  1519.159 secs\n",
      "Ready.\n",
      "Reading 0 ... 1519159  =      0.000 ...  1519.159 secs...\n"
     ]
    }
   ],
   "source": [
    "data = lee_first_subj.load_fif_data()"
   ]
  },
  {
   "cell_type": "code",
   "execution_count": 9,
   "metadata": {},
   "outputs": [
    {
     "data": {
      "text/plain": [
       "{'MI': {1: {1: <Raw | s01.01_raw.fif, 67 x 1418040 (1418.0 s), ~725.0 MiB, data loaded>,\n",
       "   2: <Raw | s01.02_raw.fif, 67 x 1519160 (1519.2 s), ~776.6 MiB, data loaded>}}}"
      ]
     },
     "execution_count": 9,
     "metadata": {},
     "output_type": "execute_result"
    }
   ],
   "source": [
    "data"
   ]
  }
 ],
 "metadata": {
  "kernelspec": {
   "display_name": "Python 3",
   "language": "python",
   "name": "python3"
  },
  "language_info": {
   "codemirror_mode": {
    "name": "ipython",
    "version": 3
   },
   "file_extension": ".py",
   "mimetype": "text/x-python",
   "name": "python",
   "nbconvert_exporter": "python",
   "pygments_lexer": "ipython3",
   "version": "3.10.17"
  }
 },
 "nbformat": 4,
 "nbformat_minor": 2
}
